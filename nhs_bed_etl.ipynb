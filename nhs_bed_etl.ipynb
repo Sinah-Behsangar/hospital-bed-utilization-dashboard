{
 "cells": [
  {
   "cell_type": "markdown",
   "id": "b923acd4",
   "metadata": {},
   "source": [
    "# NHS Bed Utilization ETL + Validation"
   ]
  },
  {
   "cell_type": "code",
   "execution_count": null,
   "id": "59679f62",
   "metadata": {},
   "outputs": [],
   "source": [
    "import pandas as pd\n",
    "import os\n",
    "from pathlib import Path\n",
    "\n",
    "# Path to your local data folder\n",
    "data_dir = Path(\"nhs_data\")\n",
    "\n",
    "# Recursively collect all CSV files\n",
    "csv_files = list(data_dir.rglob(\"*.csv\"))\n",
    "print(f\"Found {len(csv_files)} CSV files.\")\n",
    "csv_files[:5]  # show sample file paths\n"
   ]
  },
  {
   "cell_type": "code",
   "execution_count": null,
   "id": "038fd66f",
   "metadata": {},
   "outputs": [],
   "source": [
    "# Load and concatenate all CSV files into one DataFrame\n",
    "dfs = []\n",
    "for file in csv_files:\n",
    "    try:\n",
    "        df = pd.read_csv(file)\n",
    "        df['source_file'] = file.name\n",
    "        df['year'] = file.parts[-2]\n",
    "        df['quarter'] = file.stem.split('_')[-1]\n",
    "        dfs.append(df)\n",
    "    except Exception as e:\n",
    "        print(f\"Failed to read {file}: {e}\")\n",
    "\n",
    "raw_df = pd.concat(dfs, ignore_index=True)\n",
    "print(f\"Combined dataset shape: {raw_df.shape}\")\n",
    "raw_df.head()\n"
   ]
  },
  {
   "cell_type": "code",
   "execution_count": null,
   "id": "51496251",
   "metadata": {},
   "outputs": [],
   "source": [
    "# Standardize column names (example, adjust to your actual column names)\n",
    "raw_df.columns = raw_df.columns.str.strip().str.lower().str.replace(\" \", \"_\")\n",
    "\n",
    "# Rename important fields if needed\n",
    "# Example: raw_df.rename(columns={\"occupied_beds\": \"occupied\", \"available_beds\": \"available\"}, inplace=True)\n"
   ]
  },
  {
   "cell_type": "code",
   "execution_count": null,
   "id": "283da4d2",
   "metadata": {},
   "outputs": [],
   "source": [
    "# Feature engineering: Add period and occupancy rate\n",
    "raw_df['period'] = raw_df['year'] + \"_\" + raw_df['quarter']\n",
    "raw_df['occupancy_rate'] = raw_df['occupied_bed_days'] / raw_df['available_bed_days']\n"
   ]
  },
  {
   "cell_type": "code",
   "execution_count": null,
   "id": "0deb160c",
   "metadata": {},
   "outputs": [],
   "source": [
    "# Basic validation\n",
    "print(\"Missing values summary:\")\n",
    "print(raw_df.isnull().sum())\n",
    "\n",
    "print(\"\\nInvalid occupancy rates:\")\n",
    "print(raw_df[(raw_df['occupancy_rate'] > 1.0) | (raw_df['occupancy_rate'] < 0)])\n",
    "\n",
    "print(\"\\nDuplicates:\")\n",
    "print(raw_df.duplicated().sum())\n",
    "\n",
    "print(\"\\nValue ranges:\")\n",
    "print(raw_df[['available_bed_days', 'occupied_bed_days', 'occupancy_rate']].describe())\n"
   ]
  },
  {
   "cell_type": "code",
   "execution_count": null,
   "id": "2136573a",
   "metadata": {},
   "outputs": [],
   "source": [
    "# Export cleaned data\n",
    "output_path = Path(\"processed\")\n",
    "output_path.mkdir(exist_ok=True)\n",
    "raw_df.to_csv(output_path / \"cleaned_nhs_bed_data.csv\", index=False)\n",
    "print(\"✅ Cleaned data saved to: processed/cleaned_nhs_bed_data.csv\")\n"
   ]
  }
 ],
 "metadata": {},
 "nbformat": 4,
 "nbformat_minor": 5
}
